{
 "cells": [
  {
   "cell_type": "code",
   "execution_count": 9,
   "id": "0c630087",
   "metadata": {},
   "outputs": [],
   "source": [
    "import tkinter as ui\n",
    "import time\n",
    "\n",
    "window = ui.Tk()\n",
    "\n",
    "def update_clock():\n",
    "    hours = time.strftime(\"%I\")\n",
    "    minutes = time.strftime(\"%M\")\n",
    "    seconds = time.strftime(\"%S\")\n",
    "    am_or_pm = time.strftime(\"%p\")\n",
    "    time_text = hours + \":\" + minutes + \":\" + seconds + \" \" + am_or_pm\n",
    "    digital_clock_lbl.config(text=time_text)\n",
    "    digital_clock_lbl.after(1000, update_clock)\n",
    "\n",
    "digital_clock_lbl = ui.Label(window, text= \"00:00:00\", font=\"Helvetica 72 bold\")\n",
    "digital_clock_lbl.pack()\n",
    "\n",
    "update_clock()\n",
    "\n",
    "window.mainloop()"
   ]
  },
  {
   "cell_type": "code",
   "execution_count": null,
   "id": "7354a77d",
   "metadata": {},
   "outputs": [],
   "source": []
  },
  {
   "cell_type": "code",
   "execution_count": null,
   "id": "0c3be6ea",
   "metadata": {},
   "outputs": [],
   "source": []
  }
 ],
 "metadata": {
  "kernelspec": {
   "display_name": "Python 3 (ipykernel)",
   "language": "python",
   "name": "python3"
  },
  "language_info": {
   "codemirror_mode": {
    "name": "ipython",
    "version": 3
   },
   "file_extension": ".py",
   "mimetype": "text/x-python",
   "name": "python",
   "nbconvert_exporter": "python",
   "pygments_lexer": "ipython3",
   "version": "3.9.7"
  }
 },
 "nbformat": 4,
 "nbformat_minor": 5
}
